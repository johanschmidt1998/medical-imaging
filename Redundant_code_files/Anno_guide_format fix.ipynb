{
 "cells": [
  {
   "cell_type": "code",
   "execution_count": 26,
   "id": "16b4ca7e",
   "metadata": {},
   "outputs": [],
   "source": [
    "import pandas as pd\n",
    "import csv\n",
    "\n",
    "# Assuming your data is stored in a CSV file named 'data.csv'\n",
    "df = pd.read_csv(\"C:\\\\Users\\\\elias\\\\Desktop\\\\Projects in data science\\\\Final project\\\\Annotation guide1.csv\")\n",
    "\n",
    "# Separate data for annotator 1 and annotator 2\n",
    "annotator1_data = df[(df['Annotator'] == 'Annotator 1') | (df['Annotator'] == 'Annotator 3')]\n",
    "annotator2_data = df[(df['Annotator'] == 'Annotator 2') | (df['Annotator'] == 'Annotator 4')]\n",
    "\n",
    "# For Annotator 1\n",
    "annotator1_list = annotator1_data.iloc[:, 2:].values.flatten().tolist()\n",
    "\n",
    "# For Annotator 2\n",
    "annotator2_list = annotator2_data.iloc[:, 2:].values.flatten().tolist()"
   ]
  },
  {
   "cell_type": "code",
   "execution_count": null,
   "id": "a658e934",
   "metadata": {},
   "outputs": [],
   "source": []
  },
  {
   "cell_type": "code",
   "execution_count": null,
   "id": "86d1bf87",
   "metadata": {},
   "outputs": [],
   "source": []
  },
  {
   "cell_type": "code",
   "execution_count": 27,
   "id": "cbaec0fd",
   "metadata": {},
   "outputs": [],
   "source": [
    "\n",
    "\n",
    "# Assuming df is your DataFrame\n",
    "second_column = df.iloc[:, 1]  # iloc[:, 1] selects all rows and the second column\n",
    "names=list(df['Image name'])\n",
    "names\n",
    "feat=[\"Color: white (1-2)\",\"Color: red\",\"Color: Light brown\",\"Color: Dark brown\",\"Color: Green blue\",\"Color: Black\",\"Asymmetry of shape (longest axis, score from 1-2) (2 means yes)\",\"Asymmetry of color (longest axis, score from 1-2)\",\"Asymmetry of shape (perpindecular axis, score from 1-2)\",\"Asymmetry of color (perpindecular axis, score from 1-2)\",\"Blue white veil (1, 2)\"]"
   ]
  },
  {
   "cell_type": "code",
   "execution_count": 28,
   "id": "49758ac7",
   "metadata": {},
   "outputs": [],
   "source": [
    "Score_id=[]\n",
    "for i in annotator1_data['Image name']:\n",
    "    for k in feat:\n",
    "        Score_id.append(str(i)+\" : \"+ str(k))\n",
    "    "
   ]
  },
  {
   "cell_type": "code",
   "execution_count": null,
   "id": "202b3ed8",
   "metadata": {},
   "outputs": [],
   "source": []
  },
  {
   "cell_type": "code",
   "execution_count": 30,
   "id": "6ccd4809",
   "metadata": {},
   "outputs": [],
   "source": [
    "import pandas as pd\n",
    "\n",
    "# Sample lists\n",
    "# Create a DataFrame\n",
    "df = pd.DataFrame({'Feature id': Score_id,'Annotator 1': annotator1_list, 'Annotator 2': annotator2_list})\n",
    "\n",
    "# Save to Excel\n",
    "df.to_csv('annotators_guide_proper_format.csv', index=False)"
   ]
  },
  {
   "cell_type": "code",
   "execution_count": null,
   "id": "9e9a6159",
   "metadata": {},
   "outputs": [],
   "source": []
  },
  {
   "cell_type": "code",
   "execution_count": null,
   "id": "7cc48e1e",
   "metadata": {},
   "outputs": [],
   "source": []
  },
  {
   "cell_type": "code",
   "execution_count": 24,
   "id": "d121ac8a",
   "metadata": {},
   "outputs": [],
   "source": []
  },
  {
   "cell_type": "code",
   "execution_count": 31,
   "id": "d106c7e5",
   "metadata": {},
   "outputs": [
    {
     "name": "stdout",
     "output_type": "stream",
     "text": [
      "Current Directory: C:\\Users\\elias\\Desktop\\Projects in data science\n"
     ]
    }
   ],
   "source": [
    "import os\n",
    "\n",
    "# Get the current working directory\n",
    "current_directory = os.getcwd()\n",
    "\n",
    "# Print the current directory\n",
    "print(\"Current Directory:\", current_directory)\n"
   ]
  },
  {
   "cell_type": "code",
   "execution_count": null,
   "id": "ea675c3d",
   "metadata": {},
   "outputs": [],
   "source": []
  }
 ],
 "metadata": {
  "kernelspec": {
   "display_name": "Python 3 (ipykernel)",
   "language": "python",
   "name": "python3"
  },
  "language_info": {
   "codemirror_mode": {
    "name": "ipython",
    "version": 3
   },
   "file_extension": ".py",
   "mimetype": "text/x-python",
   "name": "python",
   "nbconvert_exporter": "python",
   "pygments_lexer": "ipython3",
   "version": "3.8.18"
  }
 },
 "nbformat": 4,
 "nbformat_minor": 5
}
