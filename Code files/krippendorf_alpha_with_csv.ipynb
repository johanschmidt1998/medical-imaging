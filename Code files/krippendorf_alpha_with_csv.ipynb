{
 "cells": [
  {
   "cell_type": "markdown",
   "metadata": {},
   "source": [
    "# This notebook is supposed to help with calculating the IAA metric, Krippendorff's alpha.\n",
    "\n",
    "The metric is explained in the paper found [here](https://www.asc.upenn.edu/sites/default/files/2021-03/Computing%20Krippendorff%27s%20Alpha-Reliability.pdf).\n",
    "\n",
    "For more information on IAA measures, check out this [summary video](https://youtu.be/Ofm2m1fVao8?si=0quFfOtyzbVU3lsr).\n",
    "\n",
    "The input should be a pandas dataframe, with the following structure:\n",
    "\n",
    "| annotator_id   |   0 |   1 |   2 |   3 |   4 | \n",
    "|:---------------|----:|----:|----:|----:|----:|\n",
    "| A              |   1 |   2 |   3 |   4 |   5 | \n",
    "| B              |   1 |   2 |   3 |   4 |   4 | \n",
    "| C              |   1 |   3 |   3 |   5 |   5 | \n",
    "| D              |   1 |   2 |   3 |   3 |   5 | \n",
    "\n",
    "To clarify, the index of the dataframe is each annotator. Each column then corresponds to an annotated sample (image, text, etc.). \n",
    "Categorical values need to be recoded to numeric ones. Note that each **annotated feature requires a separate alpha** to be calculated (see reading material).\n",
    "\n",
    "Use the code at your own risk. There is **no guarantee** that it has been implemented without error."
   ]
  },
  {
   "cell_type": "code",
   "execution_count": 1,
   "metadata": {},
   "outputs": [],
   "source": [
    "import pandas as pd\n",
    "import numpy as np\n",
    "import itertools"
   ]
  },
  {
   "cell_type": "code",
   "execution_count": 9,
   "metadata": {},
   "outputs": [],
   "source": [
    "def get_rating_scale_from_df(df):\n",
    "    # returns the range of ratings, assuming all ratings are present.\n",
    "    return (np.unique(df)[~np.isnan(np.unique(df))])\n",
    "\n",
    "\n",
    "\n",
    "def get_column_total_from_df(df):\n",
    "    return df.count()\n",
    "\n",
    "def get_empty_matrix(scale):\n",
    "    return np.zeros((scale,scale))\n",
    "\n",
    "def count_pairs(col_tot):\n",
    "    return col_tot * (col_tot-1)\n",
    "\n",
    "def update_coincidence_matrix(k_pairs, matrix, mu):\n",
    "    # update coincidence matrix\n",
    "    for i in k_pairs:\n",
    "        c,k = int(i[0])-1,int(i[1])-1\n",
    "        matrix[c][k] += 1/(mu-1)\n",
    "    return matrix\n",
    "\n",
    "def make_coincidence_matrix(df):\n",
    "    # get length of scale.\n",
    "    # i.e. 2 for binary scale (0,1), 5 for 5-point scale (1,2,3,4,5)\n",
    "    scale_len = len(get_rating_scale_from_df(df))\n",
    "\n",
    "    # make empty coincidence matrix\n",
    "    coincidence_matrix = np.zeros((scale_len,scale_len))\n",
    "\n",
    "    # Get column totals, n_k\n",
    "    col_tot = get_column_total_from_df(df)\n",
    "    \n",
    "    n_columns = df.shape[1]\n",
    "\n",
    "    for k in range(n_columns): # iterate through data matrix\n",
    "        mu = col_tot[k]\n",
    "\n",
    "        k_entries = np.array(df.iloc[:,k])\n",
    "        k_entries = k_entries[~np.isnan(k_entries)] # get all non-NaN values\n",
    "        k_pairs = list(itertools.permutations(k_entries,2)) # get all pairs of values\n",
    "\n",
    "        # update values in matrix\n",
    "        coincidence_matrix = update_coincidence_matrix(k_pairs, coincidence_matrix, mu)\n",
    "\n",
    "    return coincidence_matrix\n",
    "\n",
    "def get_difference_matrix(coincidence_matrix, rating = None, method = \"nominal\"): # uses the previously created coincidence matrix\n",
    "    methods = [\"nominal\", \"interval\", \"ordinal\", \"ratio\", \"bipolar\"]\n",
    "    if method not in methods:\n",
    "        print(f'Error: Incorrect method. Please set method to one of the following: {methods}')\n",
    "        pass\n",
    "    \n",
    "    if method == \"bipolar\":\n",
    "        if rating.all() == None:\n",
    "            print(f'Please include the rating scale, as a list (e.g. [-1,0,1]). \\n You can use get_rating_scale_from_df(<df>)')\n",
    "            pass\n",
    "        cmin,cmax = np.min(rating), np.max(rating)\n",
    "\n",
    "    # make empty difference matrix\n",
    "    nc,nk = coincidence_matrix.shape[0], coincidence_matrix.shape[1]\n",
    "    difference_matrix = np.zeros((nc,nk))\n",
    "\n",
    "    for c in range(nc):\n",
    "        for k in range(nk):\n",
    "\n",
    "            if method == \"nominal\":\n",
    "                difference_matrix = np.ones((nc,nk))\n",
    "                return np.triu(difference_matrix,1) + np.triu(difference_matrix,1).T\n",
    "            \n",
    "            elif method == \"interval\":\n",
    "                difference_matrix[c][k] = (c-k)**2\n",
    "\n",
    "            elif method == \"ordinal\":\n",
    "                if c <=k:\n",
    "                    sumc = (sum(coincidence_matrix[c]))\n",
    "                    sumk = (sum(coincidence_matrix[:][k]))\n",
    "                    n = ((sumc+sumk)/2)\n",
    "                \n",
    "                    ord = ((np.sum(coincidence_matrix[c:k+1])))\n",
    "                    ord_squared = (ord - n)**2\n",
    "                    difference_matrix[c][k] = ord_squared\n",
    "            \n",
    "            elif method == \"ratio\":\n",
    "                if (c-k) == (c+k) == 0:\n",
    "                    difference_matrix[c][k] = 0\n",
    "                else:\n",
    "                    difference_matrix[c][k] = ( (c-k)/(c+k) )**2\n",
    "\n",
    "            elif method == \"bipolar\":\n",
    "                difference_matrix[c][k] = ((rating[c]-rating[k])**2) / ( (rating[c] + rating[k] - 2*cmin) * (2*cmax-rating[c]-rating[k]) )\n",
    "\n",
    "    return np.triu(difference_matrix,1) + np.triu(difference_matrix,1).T\n",
    "\n",
    "def get_nuber_of_values(coincidence_matrix):\n",
    "    return np.sum(coincidence_matrix)\n",
    "\n",
    "def krippendorff_alpha(df,rating = None, method=\"nominal\"):\n",
    "    top,bot = 0,0\n",
    "\n",
    "    coincidence_matrix = make_coincidence_matrix(df)\n",
    "    \n",
    "    n = get_nuber_of_values(coincidence_matrix)\n",
    "\n",
    "    difference_matrix = get_difference_matrix(coincidence_matrix,rating = rating, method = method)\n",
    "\n",
    "    m = range(len(coincidence_matrix))\n",
    "\n",
    "    for c in m:\n",
    "        for k in m:\n",
    "            if k > c:\n",
    "                top += coincidence_matrix[c][k] * difference_matrix[c][k] \n",
    "                bot += sum(coincidence_matrix[c]) * sum(coincidence_matrix[:][k]) * difference_matrix[c][k]\n",
    "            else:\n",
    "                continue\n",
    "\n",
    "    alpha = 1 - (n-1) * (top/bot)\n",
    "\n",
    "    return (f'\\n Krippendorff {method} alpha: {round(alpha,3)}')"
   ]
  },
  {
   "cell_type": "markdown",
   "metadata": {},
   "source": [
    "# Example using the data from the [linked paper](https://www.asc.upenn.edu/sites/default/files/2021-03/Computing%20Krippendorff%27s%20Alpha-Reliability.pdf):\n",
    "\n",
    "Please note, that the answer for the Ratio metric here is mismatched from that of the paper's.\n",
    "\n",
    "I think the paper might have a mistake, but it is more likely that I have made an error somewhere."
   ]
  },
  {
   "cell_type": "code",
   "execution_count": 3,
   "metadata": {},
   "outputs": [
    {
     "name": "stdout",
     "output_type": "stream",
     "text": [
      "\n",
      " Krippendorff nominal alpha: 0.743 \n",
      " Krippendorff ordinal alpha: 0.815 \n",
      " Krippendorff interval alpha: 0.849 \n",
      " Krippendorff ratio alpha: 0.734 \n",
      " Krippendorff bipolar alpha: 0.835\n"
     ]
    },
    {
     "name": "stderr",
     "output_type": "stream",
     "text": [
      "C:\\Users\\elias\\AppData\\Local\\Temp\\ipykernel_16312\\3217660975.py:102: RuntimeWarning: invalid value encountered in scalar divide\n",
      "  difference_matrix[c][k] = ((rating[c]-rating[k])**2) / ( (rating[c] + rating[k] - 2*cmin) * (2*cmax-rating[c]-rating[k]) )\n"
     ]
    }
   ],
   "source": [
    "# Annotations from 5 different annotators. Ratings are from 1-5.\n",
    "data_example = {\n",
    "        'anno_1': [1,2,3,3,2,1,4,1,2,None,None,None], \n",
    "        'anno_2': [1,2,3,3,2,2,4,1,2,5,None,3], \n",
    "        'anno_3': [None,3,3,3,2,3,4,2,2,5,1,None],\n",
    "        'anno_4': [None,None,None,None,None,None,None,None,None,None,None,None],\n",
    "        'anno_5': [1,2,3,3,2,4,4,1,2,5,1,None]}\n",
    "\n",
    "# Create dataframe\n",
    "df = pd.DataFrame.from_dict(data_example, orient='index')\n",
    "\n",
    "# Print alpha, depending on choice of difference metric (please see the linked paper above)\n",
    "print(  krippendorff_alpha(df,rating = None, method=\"nominal\"),\n",
    "        krippendorff_alpha(df,rating = None, method=\"ordinal\"),\n",
    "        krippendorff_alpha(df,rating = None, method=\"interval\"),\n",
    "        krippendorff_alpha(df,rating = None, method=\"ratio\"),\n",
    "        krippendorff_alpha(df,rating = get_rating_scale_from_df(df), method=\"bipolar\")\n",
    "        )"
   ]
  },
  {
   "cell_type": "markdown",
   "metadata": {},
   "source": [
    "# More examples:\n",
    "\n",
    "All difference metrics behave the same on nominal data (binary selection i.e. True/False, 1/0, etc.)"
   ]
  },
  {
   "cell_type": "code",
   "execution_count": 4,
   "metadata": {},
   "outputs": [
    {
     "name": "stdout",
     "output_type": "stream",
     "text": [
      "\n",
      " Krippendorff nominal alpha: 0.731 \n",
      " Krippendorff ordinal alpha: 0.731 \n",
      " Krippendorff interval alpha: 0.731 \n",
      " Krippendorff ratio alpha: 0.731 \n",
      " Krippendorff bipolar alpha: 0.731\n"
     ]
    },
    {
     "name": "stderr",
     "output_type": "stream",
     "text": [
      "C:\\Users\\elias\\AppData\\Local\\Temp\\ipykernel_16312\\3217660975.py:102: RuntimeWarning: invalid value encountered in scalar divide\n",
      "  difference_matrix[c][k] = ((rating[c]-rating[k])**2) / ( (rating[c] + rating[k] - 2*cmin) * (2*cmax-rating[c]-rating[k]) )\n"
     ]
    }
   ],
   "source": [
    "data_nominal = {\n",
    "        'anno_1': [1,1,1,0,0,0,1,1,1,0],\n",
    "        'anno_2': [1,1,1,0,0,0,1,1,1,0],\n",
    "        'anno_3': [1,1,1,1,0,0,1,1,0,0]}\n",
    "\n",
    "# Create dataframe\n",
    "df = pd.DataFrame.from_dict(data_nominal, orient='index')\n",
    "\n",
    "# Print alpha, depending on choice of difference metric (please see the linked paper above)\n",
    "print(  krippendorff_alpha(df,rating = None, method=\"nominal\"),\n",
    "        krippendorff_alpha(df,rating = None, method=\"ordinal\"),\n",
    "        krippendorff_alpha(df,rating = None, method=\"interval\"),\n",
    "        krippendorff_alpha(df,rating = None, method=\"ratio\"),\n",
    "        krippendorff_alpha(df,rating = get_rating_scale_from_df(df), method=\"bipolar\")\n",
    "        )"
   ]
  },
  {
   "cell_type": "markdown",
   "metadata": {},
   "source": [
    "# Example when rating with a range (e.g. 1-5):\n",
    " \n",
    "A nominal metric will simply check for a 'hit' or 'miss.\n",
    "\n",
    "Ordinal and Interval metrics can measure how close, or far, a rating is from each other. So, Annotator_1 rating 5, and Annotator_2 rating 4, should be penalised less than if they rated 5 and 2 respetively:\n",
    "\n",
    "\"Nominal: the data can only be categorized. Ordinal: the data can be categorized and ranked. Interval: the data can be categorized and ranked, and evenly spaced. Ratio: the data can be categorized, ranked, evenly spaced and has a natural zero\" [Source](https://www.scribbr.com/statistics/levels-of-measurement/)"
   ]
  },
  {
   "cell_type": "code",
   "execution_count": 5,
   "metadata": {},
   "outputs": [
    {
     "name": "stdout",
     "output_type": "stream",
     "text": [
      "\n",
      " Krippendorff nominal alpha: 0.536 \n",
      " Krippendorff ordinal alpha: 0.779\n",
      "\n",
      " Krippendorff nominal alpha: 0.536 \n",
      " Krippendorff ordinal alpha: 0.285\n"
     ]
    }
   ],
   "source": [
    "data_rank = {\n",
    "        'anno_1': [1,2,3,4,5,5,5,5],\n",
    "        'anno_2': [1,2,3,4,5,4,4,4] # Minor mismatch on last samples\n",
    "        }\n",
    "\n",
    "data_rank_alt = {\n",
    "        'anno_1': [1,2,3,4,5,5,5,5],\n",
    "        'anno_2': [1,2,3,4,5,2,2,2]} # Significant mismatch on last samples\n",
    "\n",
    "examples = [data_rank,data_rank_alt]\n",
    "\n",
    "for d in examples:\n",
    "    df = pd.DataFrame.from_dict(d, orient='index')\n",
    "    print(  krippendorff_alpha(df,rating = None, method=\"nominal\"),\n",
    "            krippendorff_alpha(df,rating = None, method=\"ordinal\")\n",
    "            )"
   ]
  },
  {
   "cell_type": "markdown",
   "metadata": {},
   "source": [
    "# Multiple annotators\n",
    "\n",
    "You can add additional annotators to a dataset, as needed. It also handles missing values!"
   ]
  },
  {
   "cell_type": "code",
   "execution_count": 6,
   "metadata": {},
   "outputs": [
    {
     "name": "stdout",
     "output_type": "stream",
     "text": [
      "        0  1  2  3  4\n",
      "anno_1  1  2  3  4  5\n",
      "anno_2  1  2  3  4  5\n",
      "\n",
      " Krippendorff ordinal alpha: 1.0\n",
      "        0  1  2  3  4\n",
      "anno_1  1  2  3  4  5\n",
      "anno_2  1  2  3  4  5\n",
      "anno_3  1  3  3  3  5\n",
      "\n",
      " Krippendorff ordinal alpha: 0.914\n",
      "          0    1    2    3    4\n",
      "anno_1  1.0  2.0  3.0  4.0  5.0\n",
      "anno_2  1.0  2.0  3.0  4.0  5.0\n",
      "anno_3  1.0  3.0  3.0  3.0  5.0\n",
      "anno_4  2.0  NaN  4.0  NaN  4.0\n",
      "\n",
      " Krippendorff ordinal alpha: 0.842\n"
     ]
    }
   ],
   "source": [
    "# Start with 2 annotators\n",
    "annotator_2 = {\n",
    "        'anno_1': [1,2,3,4,5],\n",
    "        'anno_2': [1,2,3,4,5]} \n",
    "\n",
    "df = pd.DataFrame.from_dict(annotator_2, orient='index')\n",
    "print(df)\n",
    "print(krippendorff_alpha(df,rating = None, method=\"ordinal\"))\n",
    "\n",
    "# Now we add a 3rd\n",
    "df.loc[\"anno_3\"] = [1,3,3,3,5]\n",
    "\n",
    "print(df)\n",
    "print(krippendorff_alpha(df,rating = None, method=\"ordinal\"))\n",
    "\n",
    "# Now we add a 4th, but they skipped some entries by mistake!\n",
    "df.loc[\"anno_4\"] = [2,None,4,None,4]\n",
    "\n",
    "print(df)\n",
    "print(krippendorff_alpha(df,rating = None, method=\"ordinal\"))"
   ]
  },
  {
   "cell_type": "markdown",
   "metadata": {},
   "source": [
    "# USing our csv"
   ]
  },
  {
   "cell_type": "code",
   "execution_count": 77,
   "metadata": {},
   "outputs": [],
   "source": [
    "import pandas as pd\n",
    "import csv\n",
    "\n",
    "# Assuming your data is stored in a CSV file named 'data.csv'\n",
    "df = pd.read_csv(\"C:\\\\Users\\\\elias\\\\Desktop\\\\Projects in data science\\\\Final project\\\\Annotation guide1.csv\")\n",
    "\n",
    "# Separate data for annotator 1 and annotator 2\n",
    "annotator1_data = df[df['Annotator'] == 'Annotator 1']\n",
    "annotator2_data = df[df['Annotator'] == 'Annotator 2']\n",
    "\n",
    "# For Annotator 1\n",
    "annotator1_list = annotator1_data.iloc[:, 2:].values.flatten().tolist()\n",
    "\n",
    "# For Annotator 2\n",
    "annotator2_list = annotator2_data.iloc[:, 2:].values.flatten().tolist()\n",
    "\n"
   ]
  },
  {
   "cell_type": "code",
   "execution_count": 79,
   "metadata": {},
   "outputs": [
    {
     "name": "stdout",
     "output_type": "stream",
     "text": [
      "        0    1    2    3    4    5    6    7    8    9    ...  650  651  652  \\\n",
      "anno_1    2    2    1    1    1    1    1    1    1    1  ...    2    1    1   \n",
      "anno_2    2    2    1    1    1    1    1    1    1    2  ...    2    1    1   \n",
      "\n",
      "        653  654  655  656  657  658  659  \n",
      "anno_1    1    1    1    1    1    1    1  \n",
      "anno_2    1    1    1    1    1    1    1  \n",
      "\n",
      "[2 rows x 660 columns]\n",
      "\n",
      " Krippendorff ordinal alpha: 0.742\n"
     ]
    }
   ],
   "source": [
    "# Start with 2 annotators\n",
    "annotator_2 = {\n",
    "        'anno_1': annotator1_list,\n",
    "        'anno_2': annotator2_list} \n",
    "\n",
    "df = pd.DataFrame.from_dict(annotator_2, orient='index')\n",
    "print(df)\n",
    "print(krippendorff_alpha(df,rating = None, method=\"ordinal\"))"
   ]
  },
  {
   "cell_type": "code",
   "execution_count": null,
   "metadata": {},
   "outputs": [],
   "source": []
  },
  {
   "cell_type": "code",
   "execution_count": null,
   "metadata": {},
   "outputs": [],
   "source": [
    "\n"
   ]
  },
  {
   "cell_type": "code",
   "execution_count": null,
   "metadata": {},
   "outputs": [],
   "source": []
  },
  {
   "cell_type": "code",
   "execution_count": null,
   "metadata": {},
   "outputs": [],
   "source": []
  },
  {
   "cell_type": "code",
   "execution_count": 31,
   "metadata": {},
   "outputs": [],
   "source": []
  },
  {
   "cell_type": "code",
   "execution_count": null,
   "metadata": {},
   "outputs": [],
   "source": []
  },
  {
   "cell_type": "code",
   "execution_count": null,
   "metadata": {},
   "outputs": [],
   "source": []
  },
  {
   "cell_type": "code",
   "execution_count": null,
   "metadata": {},
   "outputs": [],
   "source": []
  },
  {
   "cell_type": "code",
   "execution_count": 78,
   "metadata": {},
   "outputs": [],
   "source": [
    "def split_list(lst, chunk_size):\n",
    "    \"\"\"Split a list into smaller lists of a specified chunk size.\"\"\"\n",
    "    return [lst[i:i+chunk_size] for i in range(0, len(lst), chunk_size)]\n",
    "\n",
    "# Example usage:\n",
    "long_list1 = list(all_values1)\n",
    "long_list2 = list(all_values2)\n",
    "\n",
    "# Split the long list into smaller lists of length 6\n",
    "anno1 = split_list(long_list1, 11)\n",
    "anno2 = split_list(long_list2, 11)"
   ]
  },
  {
   "cell_type": "code",
   "execution_count": 86,
   "metadata": {},
   "outputs": [],
   "source": [
    "anno1_listoflist=split_list(annotator1_list,11)\n",
    "anno2_listoflist=split_list(annotator2_list,11)"
   ]
  },
  {
   "cell_type": "code",
   "execution_count": null,
   "metadata": {},
   "outputs": [],
   "source": []
  },
  {
   "cell_type": "code",
   "execution_count": 88,
   "metadata": {},
   "outputs": [
    {
     "name": "stdout",
     "output_type": "stream",
     "text": [
      "\n",
      " Krippendorff ordinal alpha: 0.753\n",
      "\n",
      " Krippendorff ordinal alpha: 0.3\n",
      "\n",
      " Krippendorff ordinal alpha: 1.0\n",
      "\n",
      " Krippendorff ordinal alpha: 0.562\n",
      "\n",
      " Krippendorff ordinal alpha: 0.625\n",
      "\n",
      " Krippendorff ordinal alpha: 0.826\n",
      "\n",
      " Krippendorff ordinal alpha: 1.0\n",
      "\n",
      " Krippendorff ordinal alpha: 0.8\n",
      "\n",
      " Krippendorff ordinal alpha: 0.821\n",
      "\n",
      " Krippendorff ordinal alpha: 0.25\n",
      "\n",
      " Krippendorff ordinal alpha: 0.8\n",
      "\n",
      " Krippendorff ordinal alpha: 0.625\n",
      "\n",
      " Krippendorff ordinal alpha: 0.8\n",
      "\n",
      " Krippendorff ordinal alpha: 0.625\n",
      "\n",
      " Krippendorff ordinal alpha: 0.65\n",
      "\n",
      " Krippendorff ordinal alpha: 1.0\n",
      "\n",
      " Krippendorff ordinal alpha: 0.821\n",
      "\n",
      " Krippendorff ordinal alpha: 0.753\n",
      "\n",
      " Krippendorff ordinal alpha: 0.8\n",
      "\n",
      " Krippendorff ordinal alpha: 0.8\n",
      "\n",
      " Krippendorff ordinal alpha: 0.632\n",
      "\n",
      " Krippendorff ordinal alpha: 0.562\n",
      "\n",
      " Krippendorff ordinal alpha: 1.0\n",
      "\n",
      " Krippendorff ordinal alpha: 1.0\n",
      "\n",
      " Krippendorff ordinal alpha: 1.0\n",
      "\n",
      " Krippendorff ordinal alpha: 1.0\n",
      "\n",
      " Krippendorff ordinal alpha: 1.0\n",
      "\n",
      " Krippendorff ordinal alpha: 1.0\n",
      "\n",
      " Krippendorff ordinal alpha: 0.753\n",
      "\n",
      " Krippendorff ordinal alpha: 1.0\n",
      "\n",
      " Krippendorff ordinal alpha: 0.4\n",
      "\n",
      " Krippendorff ordinal alpha: 0.259\n",
      "\n",
      " Krippendorff ordinal alpha: 1.0\n",
      "\n",
      " Krippendorff ordinal alpha: 0.753\n",
      "\n",
      " Krippendorff ordinal alpha: 0.753\n",
      "\n",
      " Krippendorff ordinal alpha: 0.753\n",
      "\n",
      " Krippendorff ordinal alpha: 0.8\n",
      "\n",
      " Krippendorff ordinal alpha: 0.821\n",
      "\n",
      " Krippendorff ordinal alpha: 1.0\n",
      "\n",
      " Krippendorff ordinal alpha: 0.753\n",
      "\n",
      " Krippendorff ordinal alpha: 1.0\n",
      "\n",
      " Krippendorff ordinal alpha: 0.562\n",
      "\n",
      " Krippendorff ordinal alpha: 1.0\n",
      "\n",
      " Krippendorff ordinal alpha: 1.0\n",
      "\n",
      " Krippendorff ordinal alpha: 0.562\n",
      "\n",
      " Krippendorff ordinal alpha: 0.625\n",
      "\n",
      " Krippendorff ordinal alpha: 0.753\n",
      "\n",
      " Krippendorff ordinal alpha: 0.753\n",
      "\n",
      " Krippendorff ordinal alpha: 0.3\n",
      "\n",
      " Krippendorff ordinal alpha: 1.0\n",
      "\n",
      " Krippendorff ordinal alpha: 0.632\n",
      "\n",
      " Krippendorff ordinal alpha: 0.125\n",
      "\n",
      " Krippendorff ordinal alpha: 0.8\n",
      "\n",
      " Krippendorff ordinal alpha: 1.0\n",
      "\n",
      " Krippendorff ordinal alpha: 0.65\n",
      "\n",
      " Krippendorff ordinal alpha: 0.132\n",
      "\n",
      " Krippendorff ordinal alpha: 0.632\n",
      "\n",
      " Krippendorff ordinal alpha: 0.753\n",
      "\n",
      " Krippendorff ordinal alpha: 0.625\n",
      "\n",
      " Krippendorff ordinal alpha: 0.632\n"
     ]
    }
   ],
   "source": [
    "for i in range(len(anno1_list)):\n",
    "    annotator_2 = {\n",
    "        'anno_1': anno1_listoflist[i],\n",
    "        'anno_2': anno2_listoflist[i]} \n",
    "\n",
    "    df = pd.DataFrame.from_dict(annotator_2, orient='index')\n",
    "    #print(df)\n",
    "    print(krippendorff_alpha(df,rating = None, method=\"ordinal\"))\n",
    "    "
   ]
  },
  {
   "cell_type": "code",
   "execution_count": null,
   "metadata": {},
   "outputs": [],
   "source": []
  },
  {
   "cell_type": "code",
   "execution_count": null,
   "metadata": {},
   "outputs": [],
   "source": []
  }
 ],
 "metadata": {
  "kernelspec": {
   "display_name": "Python 3 (ipykernel)",
   "language": "python",
   "name": "python3"
  },
  "language_info": {
   "codemirror_mode": {
    "name": "ipython",
    "version": 3
   },
   "file_extension": ".py",
   "mimetype": "text/x-python",
   "name": "python",
   "nbconvert_exporter": "python",
   "pygments_lexer": "ipython3",
   "version": "3.8.18"
  }
 },
 "nbformat": 4,
 "nbformat_minor": 2
}
