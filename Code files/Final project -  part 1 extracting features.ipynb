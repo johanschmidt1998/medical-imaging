{
 "cells": [
  {
   "cell_type": "markdown",
   "id": "990bb698",
   "metadata": {},
   "source": [
    "# Projects in data science, Project: Skin lesions"
   ]
  },
  {
   "cell_type": "markdown",
   "id": "1bcf282a",
   "metadata": {},
   "source": [
    "# Part 1 extracting features"
   ]
  },
  {
   "cell_type": "markdown",
   "id": "de85fe16",
   "metadata": {},
   "source": [
    "##### Imports"
   ]
  },
  {
   "cell_type": "code",
   "execution_count": 1,
   "id": "42256433",
   "metadata": {},
   "outputs": [],
   "source": [
    "import os\n",
    "import cv2\n",
    "import numpy as np\n",
    "import matplotlib.pyplot as plt\n",
    "from skimage import segmentation, color\n",
    "import csv\n",
    "from skimage.feature import graycomatrix, graycoprops\n",
    "from skimage import io, color, img_as_ubyte\n",
    "import skimage.util as util\n",
    "\n"
   ]
  },
  {
   "cell_type": "markdown",
   "id": "8e845efc",
   "metadata": {},
   "source": [
    "##### File paths, please update before running"
   ]
  },
  {
   "cell_type": "code",
   "execution_count": 29,
   "id": "a48742fb",
   "metadata": {},
   "outputs": [],
   "source": [
    "Lesion_images_folder=\"C:\\\\Users\\\\elias\\\\Desktop\\\\Projects in data science\\\\Final project\\\\Lesions_images\"\n",
    "Lesion_masks_folder=\"C:\\\\Users\\\\elias\\\\Desktop\\\\Projects in data science\\\\Final project\\\\Lesions_masks\"\n",
    "Metadata_path=\"C:\\\\Users\\\\elias\\\\Desktop\\\\Projects in data science\\\\Final project\\\\metadata.csv\""
   ]
  },
  {
   "cell_type": "markdown",
   "id": "03c99d14",
   "metadata": {},
   "source": [
    "# Functions for extracting features/attributes"
   ]
  },
  {
   "cell_type": "markdown",
   "id": "cc1e515e",
   "metadata": {},
   "source": [
    "### Asymmetri"
   ]
  },
  {
   "cell_type": "code",
   "execution_count": 3,
   "id": "778d9934",
   "metadata": {},
   "outputs": [],
   "source": [
    "def measure_symmetry(img_path):\n",
    "    # Load image\n",
    "    img = cv2.imread(img_path, cv2.IMREAD_GRAYSCALE)\n",
    "\n",
    "    # Calculate area total\n",
    "    area_total = np.count_nonzero(img)\n",
    "\n",
    "    # Calculate horizontal flip and difference\n",
    "    horizontal_flip = np.fliplr(img)\n",
    "    diff_horizontal = img * ~horizontal_flip\n",
    "    diff_horizontal_area = np.count_nonzero(diff_horizontal)\n",
    "\n",
    "    # Calculate vertical flip and difference\n",
    "    vertical_flip = np.flipud(img)\n",
    "    diff_vertical = img * ~vertical_flip\n",
    "    diff_vertical_area = np.count_nonzero(diff_vertical)\n",
    "\n",
    "    # Calculate asymmetric index\n",
    "    if area_total==0:\n",
    "        return 0\n",
    "    else:   \n",
    "        asymm_idx = 0.5 * ((diff_horizontal_area / area_total) + (diff_vertical_area / area_total))\n",
    "        return asymm_idx\n",
    "\n"
   ]
  },
  {
   "cell_type": "markdown",
   "id": "8fbdb8a7",
   "metadata": {},
   "source": [
    "### Colour"
   ]
  },
  {
   "cell_type": "code",
   "execution_count": 4,
   "id": "d1ef18da",
   "metadata": {},
   "outputs": [],
   "source": [
    "def analyze_and_visualize_segmentation(image_path, mask_path, lst_compactness):\n",
    "    # Load RGB image and mask\n",
    "    rgb_img = plt.imread(image_path)[:,:,:3]\n",
    "    mask = plt.imread(mask_path)\n",
    "\n",
    "    # Replace pixels within the lesion area with the average color of the lesion\n",
    "    img_avg_lesion = rgb_img.copy()\n",
    "    for i in range(3):\n",
    "        channel = img_avg_lesion[:,:,i]\n",
    "        mean = np.mean(channel[mask.astype(bool)])\n",
    "        channel[mask.astype(bool)] = mean\n",
    "        img_avg_lesion[:,:,i] = channel\n",
    "\n",
    "    # Crop the lesion area from the original image\n",
    "    lesion_coords = np.where(mask != 0)\n",
    "    min_x, max_x = min(lesion_coords[0]), max(lesion_coords[0])\n",
    "    min_y, max_y = min(lesion_coords[1]), max(lesion_coords[1])\n",
    "    cropped_lesion = rgb_img[min_x:max_x, min_y:max_y]\n",
    "\n",
    "    # Initialize lists to store average colors and standard deviations\n",
    "    avg_colors = []\n",
    "    std_devs = []\n",
    "\n",
    "    # Perform SLIC segmentation and calculate average colors for the lesion\n",
    "    for c in lst_compactness:\n",
    "        labels = segmentation.slic(cropped_lesion, compactness=c, n_segments=30, sigma=3, start_label=1)\n",
    "        avg_color_lesion = np.mean(cropped_lesion[labels != 0], axis=0)\n",
    "        std_dev_lesion = np.std(cropped_lesion[labels != 0], axis=0)\n",
    "        avg_colors.append(avg_color_lesion)\n",
    "        std_devs.append(std_dev_lesion)\n",
    "\n",
    "    # Calculate the average RGB values and standard deviations\n",
    "    avg_avg_colors = np.mean(avg_colors, axis=0)\n",
    "    avg_std_devs = np.mean(std_devs, axis=0)\n",
    "\n",
    "    return list(avg_avg_colors)+list(avg_std_devs)\n"
   ]
  },
  {
   "cell_type": "code",
   "execution_count": null,
   "id": "0c99ad29",
   "metadata": {},
   "outputs": [],
   "source": []
  },
  {
   "cell_type": "markdown",
   "id": "f360d642",
   "metadata": {},
   "source": [
    "### Blue-White veil"
   ]
  },
  {
   "cell_type": "code",
   "execution_count": 5,
   "id": "498efadb",
   "metadata": {},
   "outputs": [],
   "source": [
    "def classify_pixel_as_veil(rgb_img):\n",
    "    veil_count = 0\n",
    "    \n",
    "    for i in range(rgb_img.shape[0]):\n",
    "        for j in range(rgb_img.shape[1]):\n",
    "            if len(rgb_img[i, j]) == 3:  # Check if pixel has RGB values\n",
    "                R, G, B = rgb_img[i, j]\n",
    "                Lum = R + G + B\n",
    "                nB = B / Lum\n",
    "\n",
    "                if nB >= 0.3 and 0.6 <= Lum <= 2:\n",
    "                    veil_count += 1\n",
    "                \n",
    "    return veil_count\n",
    "\n",
    "def analyze_and_count_veil(image_path, mask_path):\n",
    "    # Load RGB image and mask\n",
    "    rgb_img = plt.imread(image_path).astype(np.float32)  # Ensure float32 type\n",
    "    mask = plt.imread(mask_path)\n",
    "    \n",
    "    # Apply mask to RGB image\n",
    "    masked_rgb_img = rgb_img * mask[:, :, np.newaxis]\n",
    "    \n",
    "    # Classify each pixel as veil or non-veil and count veil pixels\n",
    "    veil_count = classify_pixel_as_veil(masked_rgb_img)\n",
    "    \n",
    "    return veil_count\n"
   ]
  },
  {
   "cell_type": "markdown",
   "id": "0f078043",
   "metadata": {},
   "source": [
    "### Haralick texture"
   ]
  },
  {
   "cell_type": "code",
   "execution_count": 6,
   "id": "9b69652b",
   "metadata": {},
   "outputs": [],
   "source": [
    "def compute_haralick_texture_features(image_path, mask_path):\n",
    "    image = io.imread(image_path)\n",
    "    mask = io.imread(mask_path)\n",
    "    \n",
    "    # Remove alpha channel if present\n",
    "    if image.shape[2] == 4:\n",
    "        image = image[:, :, :3]  # Remove the alpha channel\n",
    "    \n",
    "    # Convert RGB image to grayscale\n",
    "    gray_image = color.rgb2gray(image)\n",
    "    # Convert grayscale image to unsigned integer type\n",
    "    gray_image_uint = util.img_as_ubyte(gray_image)\n",
    "    \n",
    "    # Apply mask to image\n",
    "    masked_image = image * mask[:, :, np.newaxis]\n",
    "    \n",
    "    # Compute gray-level co-occurrence matrix (GLCM)\n",
    "    distances = [1]  # distance between pixels\n",
    "    angles = [0, np.pi/4, np.pi/2, 3*np.pi/4]  # angles for texture measurements\n",
    "    glcm = graycomatrix(gray_image_uint, distances=distances, angles=angles, levels=256, symmetric=True, normed=True)\n",
    "    \n",
    "    # Compute Haralick texture features\n",
    "    contrast = graycoprops(glcm, 'contrast').ravel().mean()\n",
    "    dissimilarity = graycoprops(glcm, 'dissimilarity').ravel().mean()\n",
    "    homogeneity = graycoprops(glcm, 'homogeneity').ravel().mean()\n",
    "    energy = graycoprops(glcm, 'energy').ravel().mean()\n",
    "    correlation = graycoprops(glcm, 'correlation').ravel().mean()\n",
    "    \n",
    "    return [contrast, dissimilarity, homogeneity, energy, correlation]\n",
    "\n",
    "\n"
   ]
  },
  {
   "cell_type": "code",
   "execution_count": 7,
   "id": "c90dd91d",
   "metadata": {},
   "outputs": [
    {
     "name": "stdout",
     "output_type": "stream",
     "text": [
      "Contrast: 65.63454833745564\n",
      "Dissimilarity: 5.269616317150561\n",
      "Homogeneity: 0.2171990184897258\n",
      "Energy: 0.021375145329951103\n",
      "Correlation: 0.969490575012103\n"
     ]
    }
   ],
   "source": [
    "# Compute texture features\n",
    "image_path = \"C:\\\\Users\\\\elias\\\\Desktop\\\\Projects in data science\\\\Final project\\\\Lesions_images\\\\PAT_1064_272_668.png\"\n",
    "mask_path =  \"C:\\\\Users\\\\elias\\\\Desktop\\\\Projects in data science\\\\Final project\\\\Lesions_masks\\\\PAT_1064_272_668_mask.png\"\n",
    "\n",
    "contrast, dissimilarity, homogeneity, energy, correlation = compute_haralick_texture_features(image_path, mask_path)\n",
    "\n",
    "print(\"Contrast:\", contrast)\n",
    "print(\"Dissimilarity:\", dissimilarity)\n",
    "print(\"Homogeneity:\", homogeneity)\n",
    "print(\"Energy:\", energy)\n",
    "print(\"Correlation:\", correlation)"
   ]
  },
  {
   "cell_type": "markdown",
   "id": "32515a51",
   "metadata": {},
   "source": [
    "### Diagnostic from metadata"
   ]
  },
  {
   "cell_type": "code",
   "execution_count": 8,
   "id": "0a8a171c",
   "metadata": {},
   "outputs": [],
   "source": [
    "def get_diagnostic(img_name):\n",
    "    \n",
    "    search_value=img_name+\".png\"\n",
    "    diagnostic = None\n",
    "    \n",
    "    with open(Metadata_path, 'r') as csv_file:\n",
    "        reader = csv.DictReader(csv_file, delimiter=',')\n",
    "        \n",
    "        for row in reader:\n",
    "            if row[\"img_id\"] == search_value:\n",
    "                diagnostic = row[\"diagnostic\"]\n",
    "                break  # Stop searching once the value is found\n",
    "    if diagnostic in [\"BCC\",\"SCC\",\"MEL\"]:\n",
    "        return(1)\n",
    "    else:\n",
    "        return(0)\n"
   ]
  },
  {
   "cell_type": "markdown",
   "id": "8d85681f",
   "metadata": {},
   "source": [
    "# Extracting and saving feature values"
   ]
  },
  {
   "cell_type": "code",
   "execution_count": 33,
   "id": "1221050d",
   "metadata": {},
   "outputs": [],
   "source": [
    "Asymmetry_results={}\n",
    "# Loop through each image in the folder\n",
    "for filename in os.listdir(Lesion_masks_folder):\n",
    "    if filename.endswith('.jpg') or filename.endswith('.png'):  # Adjust file extensions as needed\n",
    "        img_path = os.path.join(Lesion_masks_folder, filename)\n",
    "        result = measure_symmetry(img_path)\n",
    "        ID=filename.replace(\"_mask.png\",\"\");\n",
    "        Asymmetry_results[ID]=result\n",
    "#Asymmetry_results      \n"
   ]
  },
  {
   "cell_type": "code",
   "execution_count": 19,
   "id": "efc1b622",
   "metadata": {},
   "outputs": [],
   "source": [
    "Colour_results = {}\n",
    "\n",
    "# Loop through each image in the folder\n",
    "for filename in os.listdir(Lesion_images_folder):\n",
    "    if filename.endswith('.jpg') or filename.endswith('.png'):  # Adjust file extensions as needed\n",
    "        img_path = os.path.join(Lesion_images_folder, filename)\n",
    "        \n",
    "        # Find corresponding mask\n",
    "        corresponding_mask = os.path.join(Lesion_masks_folder, os.path.basename(os.path.splitext(img_path)[0]) + \"_mask.png\")\n",
    "        \n",
    "        # Analyze and visualize segmentation\n",
    "        result = analyze_and_visualize_segmentation(img_path, corresponding_mask, [7])\n",
    "        \n",
    "        # Append results to Colour_results list\n",
    "        ID=filename.replace(\".png\",\"\");\n",
    "        Colour_results[ID]=result\n",
    "\n",
    "#print(Colour_results)\n"
   ]
  },
  {
   "cell_type": "markdown",
   "id": "adbd15d0",
   "metadata": {},
   "source": [
    "Blue-White tager nogle minutter."
   ]
  },
  {
   "cell_type": "code",
   "execution_count": 11,
   "id": "b2a680e0",
   "metadata": {},
   "outputs": [
    {
     "name": "stderr",
     "output_type": "stream",
     "text": [
      "C:\\Users\\elias\\AppData\\Local\\Temp\\ipykernel_17676\\158654455.py:9: RuntimeWarning: invalid value encountered in scalar divide\n",
      "  nB = B / Lum\n"
     ]
    }
   ],
   "source": [
    "Blue_white_veil_results = {}\n",
    "\n",
    "# Loop through each image in the folder\n",
    "for filename in os.listdir(Lesion_images_folder):\n",
    "    if filename.endswith('.jpg') or filename.endswith('.png'):  # Adjust file extensions as needed\n",
    "        img_path = os.path.join(Lesion_images_folder, filename)\n",
    "        \n",
    "        # Find corresponding mask\n",
    "        corresponding_mask = os.path.join(Lesion_masks_folder, os.path.basename(os.path.splitext(img_path)[0]) + \"_mask.png\")\n",
    "        \n",
    "        # cound blue white veils pixels\n",
    "        result = analyze_and_count_veil(img_path, corresponding_mask)\n",
    "        \n",
    "        # Append results to Blue_white_veil_results list\n",
    "        ID=filename.replace(\".png\",\"\");\n",
    "        Blue_white_veil_results[ID]=result\n",
    "\n"
   ]
  },
  {
   "cell_type": "code",
   "execution_count": 12,
   "id": "6b2897fc",
   "metadata": {},
   "outputs": [],
   "source": [
    "haralick_results = {}\n",
    "\n",
    "# Loop through each image in the folder\n",
    "for filename in os.listdir(Lesion_images_folder):\n",
    "    if filename.endswith('.jpg') or filename.endswith('.png'):  # Adjust file extensions as needed\n",
    "        img_path = os.path.join(Lesion_images_folder, filename)\n",
    "        \n",
    "        # Find corresponding mask\n",
    "        corresponding_mask = os.path.join(Lesion_masks_folder, os.path.basename(os.path.splitext(img_path)[0]) + \"_mask.png\")\n",
    "        \n",
    "        # compute haralick\n",
    "        result = compute_haralick_texture_features(img_path, corresponding_mask)\n",
    "        \n",
    "        # Append results to haralick results\n",
    "        ID=filename.replace(\".png\",\"\");\n",
    "        haralick_results[ID]=result\n"
   ]
  },
  {
   "cell_type": "markdown",
   "id": "a92d4016",
   "metadata": {},
   "source": [
    "# Creating CSV file and and headers"
   ]
  },
  {
   "cell_type": "markdown",
   "id": "c0166424",
   "metadata": {},
   "source": [
    "### Create file and add headers"
   ]
  },
  {
   "cell_type": "code",
   "execution_count": 20,
   "id": "8d546d79",
   "metadata": {},
   "outputs": [
    {
     "name": "stdout",
     "output_type": "stream",
     "text": [
      "Empty CSV file created at: C:\\Users\\elias\\Desktop\\Projects in data science\\Final project\\Attributes.csv\n",
      "headers added at: C:\\Users\\elias\\Desktop\\Projects in data science\\Final project\\Attributes.csv\n"
     ]
    }
   ],
   "source": [
    "# Get the current working directory\n",
    "current_directory = os.getcwd()\n",
    "# Define the filename for the CSV file\n",
    "csv_filename = \"Attributes.csv\"\n",
    "# Construct the full path to the CSV file\n",
    "csv_filepath = os.path.join(current_directory, csv_filename)\n",
    "# Create the empty CSV file\n",
    "with open(csv_filepath, 'w') as csv_file:\n",
    "    pass  # This just creates an empty file\n",
    "print(\"Empty CSV file created at:\", csv_filepath)\n",
    "\n",
    "# Define the list of names for the rows\n",
    "row_names = [\"lesion_name\", \"Assymentri_index\", \"avg_red_value\", \"avg_blue_value\", \"avg_green_value\",\"avg_red_std_dev\", \"avg_blue_std_dev\", \"avg_red_std_dev\",\"blue_white_veil_score\",\"Haralick_contrast\", \"Haralick_dissimilarity\", \"Haralick_homogeneity\", \"Haralick_energy\", \"Haralick_correlation\",\"is_cancer_bool\"]\n",
    "\n",
    "# Write the row names to the CSV file\n",
    "with open(csv_filepath, 'w', newline='') as csv_file:\n",
    "    writer = csv.writer(csv_file)\n",
    "    writer.writerow(row_names)\n",
    "print(\"headers added at:\", csv_filepath)\n"
   ]
  },
  {
   "cell_type": "markdown",
   "id": "18a02300",
   "metadata": {},
   "source": [
    "# Combine Attribute dictionaries into a single list of lists"
   ]
  },
  {
   "cell_type": "code",
   "execution_count": 35,
   "id": "e5e84c6a",
   "metadata": {},
   "outputs": [],
   "source": [
    "#make the list\n",
    "Attributelist=[]\n",
    "\n",
    "#add values\n",
    "for key in Asymmetry_results.keys():\n",
    "    row=[]\n",
    "    row.append(key)\n",
    "    row.append(Asymmetry_results[key])\n",
    "    row=row+Colour_results[key]\n",
    "    row.append(Blue_white_veil_results[key])\n",
    "    row=row+haralick_results[key]\n",
    "    row.append(get_diagnostic(key))\n",
    "    Attributelist.append(row)\n",
    "    "
   ]
  },
  {
   "cell_type": "markdown",
   "id": "0ff2170f",
   "metadata": {},
   "source": [
    "# Add attributes to the csv"
   ]
  },
  {
   "cell_type": "code",
   "execution_count": 36,
   "id": "052fb22b",
   "metadata": {},
   "outputs": [
    {
     "name": "stdout",
     "output_type": "stream",
     "text": [
      "Attributs appended to the CSV file at: C:\\Users\\elias\\Desktop\\Projects in data science\\Final project\\Attributes.csv\n"
     ]
    }
   ],
   "source": [
    "with open(csv_filepath, 'a', newline='') as csv_file:\n",
    "    writer = csv.writer(csv_file)\n",
    "    for row in Attributelist:\n",
    "        writer.writerow(row)\n",
    "\n",
    "print(\"Attributs appended to the CSV file at:\", csv_filepath)"
   ]
  },
  {
   "cell_type": "code",
   "execution_count": null,
   "id": "a4cd65bf",
   "metadata": {},
   "outputs": [],
   "source": []
  },
  {
   "cell_type": "code",
   "execution_count": null,
   "id": "033ef7ce",
   "metadata": {},
   "outputs": [],
   "source": []
  },
  {
   "cell_type": "code",
   "execution_count": null,
   "id": "07984f0c",
   "metadata": {},
   "outputs": [],
   "source": []
  },
  {
   "cell_type": "code",
   "execution_count": null,
   "id": "8c6c9e39",
   "metadata": {},
   "outputs": [],
   "source": []
  }
 ],
 "metadata": {
  "kernelspec": {
   "display_name": "Python 3 (ipykernel)",
   "language": "python",
   "name": "python3"
  },
  "language_info": {
   "codemirror_mode": {
    "name": "ipython",
    "version": 3
   },
   "file_extension": ".py",
   "mimetype": "text/x-python",
   "name": "python",
   "nbconvert_exporter": "python",
   "pygments_lexer": "ipython3",
   "version": "3.8.18"
  }
 },
 "nbformat": 4,
 "nbformat_minor": 5
}
