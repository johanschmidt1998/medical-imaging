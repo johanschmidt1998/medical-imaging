{
 "cells": [
  {
   "cell_type": "markdown",
   "id": "990bb698",
   "metadata": {},
   "source": [
    "# Projects in data science, Project: Skin lesions"
   ]
  },
  {
   "cell_type": "markdown",
   "id": "1bcf282a",
   "metadata": {},
   "source": [
    "# Part 1 extracting features"
   ]
  },
  {
   "cell_type": "markdown",
   "id": "de85fe16",
   "metadata": {},
   "source": [
    "##### Imports"
   ]
  },
  {
   "cell_type": "code",
   "execution_count": 1,
   "id": "42256433",
   "metadata": {},
   "outputs": [
    {
     "name": "stderr",
     "output_type": "stream",
     "text": [
      "C:\\Users\\krist\\anaconda3\\Lib\\site-packages\\paramiko\\transport.py:219: CryptographyDeprecationWarning: Blowfish has been deprecated and will be removed in a future release\n",
      "  \"class\": algorithms.Blowfish,\n"
     ]
    }
   ],
   "source": [
    "import os\n",
    "import cv2\n",
    "import numpy as np\n",
    "import matplotlib.pyplot as plt\n",
    "from skimage import segmentation, color\n",
    "import csv\n",
    "from skimage.feature import graycomatrix, graycoprops\n",
    "from skimage import io, color, img_as_ubyte\n",
    "import skimage.util as util\n",
    "from skimage.metrics import structural_similarity as ssim"
   ]
  },
  {
   "cell_type": "markdown",
   "id": "8e845efc",
   "metadata": {},
   "source": [
    "##### File paths, please update before running"
   ]
  },
  {
   "cell_type": "code",
   "execution_count": 2,
   "id": "a48742fb",
   "metadata": {},
   "outputs": [],
   "source": [
    "Lesion_images_folder=\"C:\\\\Users\\\\krist\\\\Desktop\\\\ITU\\\\2_Semester\\\\projects_in_datascience\\\\first_year_project\\\\groupN_images\"\n",
    "Lesion_masks_folder=\"C:\\\\Users\\\\krist\\\\Desktop\\\\ITU\\\\2_Semester\\\\projects_in_datascience\\\\first_year_project\\\\groupN_masks\"\n",
    "Metadata_path=\"C:\\\\Users\\\\krist\\\\Desktop\\\\ITU\\\\2_Semester\\\\projects_in_datascience\\\\first_year_project\\\\metadata.csv\""
   ]
  },
  {
   "cell_type": "markdown",
   "id": "03c99d14",
   "metadata": {},
   "source": [
    "# Functions for extracting features/attributes"
   ]
  },
  {
   "cell_type": "markdown",
   "id": "cc1e515e",
   "metadata": {},
   "source": [
    "### Asymmetri"
   ]
  },
  {
   "cell_type": "code",
   "execution_count": 3,
   "id": "778d9934",
   "metadata": {},
   "outputs": [],
   "source": [
    "def measure_symmetry(mask_path, image_path):\n",
    "    \"\"\"\n",
    "    Measure symmetry of a binary mask and color similarity within the masked area.\n",
    "\n",
    "    Args:\n",
    "        mask_path (str): Path to the binary mask image file.\n",
    "        image_path (str): Path to the original image corresponding to the mask.\n",
    "\n",
    "    Returns:\n",
    "        float: Symmetry score between 0 and 1, where 1 indicates perfect symmetry.\n",
    "        float: Color-based symmetry score based on color similarity within the masked area.\n",
    "    \"\"\"\n",
    "    # Load the binary mask image\n",
    "    mask = cv2.imread(mask_path, cv2.IMREAD_GRAYSCALE)\n",
    "    \n",
    "    # Load the original image corresponding to the mask\n",
    "    original_image = cv2.imread(image_path)\n",
    "\n",
    "    # Calculate the total area (number of non-zero pixels) of the mask\n",
    "    area_total = np.count_nonzero(mask)\n",
    "\n",
    "    if area_total == 0:\n",
    "        return 0.0, 0.0  # If the mask is empty, return symmetry scores of 0\n",
    "\n",
    "    # Compute major and minor axes using PCA (Principal Component Analysis)\n",
    "    masked_pixels = np.transpose(np.nonzero(mask))\n",
    "    com_x, com_y = np.mean(masked_pixels, axis=0)\n",
    "    cov_matrix = np.cov(masked_pixels, rowvar=False)\n",
    "    _, eigenvectors = np.linalg.eigh(cov_matrix)\n",
    "    pc1_x, pc1_y = eigenvectors[:, 0]  # Major axis\n",
    "    pc2_x, pc2_y = eigenvectors[:, 1]  # Minor axis\n",
    "\n",
    "    # Flip mask over major and minor axes\n",
    "    mask_major_axis = np.fliplr(mask)  # Horizontal flip (major axis)\n",
    "    mask_minor_axis = np.flipud(mask)  # Vertical flip (minor axis)\n",
    "\n",
    "    # Calculate intersection areas between original mask and flipped versions\n",
    "    intersection_major = mask & mask_major_axis\n",
    "    intersection_minor = mask & mask_minor_axis\n",
    "\n",
    "    # Calculate symmetry scores based on intersection areas\n",
    "    symmetry_major = np.count_nonzero(intersection_major) / area_total\n",
    "    symmetry_minor = np.count_nonzero(intersection_minor) / area_total\n",
    "\n",
    "    # Calculate overall symmetry score (average of major and minor axes)\n",
    "    symmetry_score = 1 - 0.5 * (symmetry_major + symmetry_minor)\n",
    "\n",
    "    # Extract masked regions from the original image\n",
    "    masked_region = original_image[mask > 0]\n",
    "    masked_major_axis = original_image[mask_major_axis > 0]\n",
    "    masked_minor_axis = original_image[mask_minor_axis > 0]\n",
    "\n",
    "    # Calculate SSIM (Structural Similarity Index) for color similarity\n",
    "    ssim_major = ssim(masked_region, masked_major_axis, win_size=min(masked_region.shape[0], masked_region.shape[1]), multichannel=True)\n",
    "    ssim_minor = ssim(masked_region, masked_minor_axis, win_size=min(masked_region.shape[0], masked_region.shape[1]), multichannel=True)\n",
    "\n",
    "    # Calculate color-based symmetry score (average SSIM)\n",
    "    color_symmetry_score = 1 - 0.5 * (ssim_major + ssim_minor)\n",
    "\n",
    "    return [1-symmetry_major, 1-symmetry_minor, 1-ssim_major, 1-ssim_minor, symmetry_score, color_symmetry_score]"
   ]
  },
  {
   "cell_type": "markdown",
   "id": "8fbdb8a7",
   "metadata": {},
   "source": [
    "### Colour"
   ]
  },
  {
   "cell_type": "code",
   "execution_count": 4,
   "id": "d1ef18da",
   "metadata": {},
   "outputs": [],
   "source": [
    "def analyze_and_visualize_segmentation(image_path, mask_path, lst_compactness):\n",
    "    # Load RGB image and mask\n",
    "    rgb_img = plt.imread(image_path)[:,:,:3]\n",
    "    mask = plt.imread(mask_path)\n",
    "\n",
    "    # Replace pixels within the lesion area with the average color of the lesion\n",
    "    img_avg_lesion = rgb_img.copy()\n",
    "    for i in range(3):\n",
    "        channel = img_avg_lesion[:,:,i]\n",
    "        mean = np.mean(channel[mask.astype(bool)])\n",
    "        channel[mask.astype(bool)] = mean\n",
    "        img_avg_lesion[:,:,i] = channel\n",
    "\n",
    "    # Crop the lesion area from the original image\n",
    "    lesion_coords = np.where(mask != 0)\n",
    "    min_x, max_x = min(lesion_coords[0]), max(lesion_coords[0])\n",
    "    min_y, max_y = min(lesion_coords[1]), max(lesion_coords[1])\n",
    "    cropped_lesion = rgb_img[min_x:max_x, min_y:max_y]\n",
    "\n",
    "    # Initialize lists to store average colors and standard deviations\n",
    "    avg_colors = []\n",
    "    std_devs = []\n",
    "\n",
    "    # Perform SLIC segmentation and calculate average colors for the lesion\n",
    "    for c in lst_compactness:\n",
    "        labels = segmentation.slic(cropped_lesion, compactness=c, n_segments=30, sigma=3, start_label=1)\n",
    "        avg_color_lesion = np.mean(cropped_lesion[labels != 0], axis=0)\n",
    "        std_dev_lesion = np.std(cropped_lesion[labels != 0], axis=0)\n",
    "        avg_colors.append(avg_color_lesion)\n",
    "        std_devs.append(std_dev_lesion)\n",
    "\n",
    "    # Calculate the average RGB values and standard deviations\n",
    "    avg_avg_colors = np.mean(avg_colors, axis=0)\n",
    "    avg_std_devs = np.mean(std_devs, axis=0)\n",
    "\n",
    "    return list(avg_avg_colors)+list(avg_std_devs)\n"
   ]
  },
  {
   "cell_type": "markdown",
   "id": "f360d642",
   "metadata": {},
   "source": [
    "### Blue-White veil"
   ]
  },
  {
   "cell_type": "code",
   "execution_count": 5,
   "id": "498efadb",
   "metadata": {},
   "outputs": [],
   "source": [
    "def classify_pixel_as_veil(rgb_img):\n",
    "    veil_count = 0\n",
    "    \n",
    "    for i in range(rgb_img.shape[0]):\n",
    "        for j in range(rgb_img.shape[1]):\n",
    "            if len(rgb_img[i, j]) == 3:  # Check if pixel has RGB values\n",
    "                R, G, B = rgb_img[i, j]\n",
    "                Lum = R + G + B\n",
    "                nB = B / Lum\n",
    "\n",
    "                if nB >= 0.3 and 0.6 <= Lum <= 2:\n",
    "                    veil_count += 1\n",
    "                \n",
    "    return veil_count\n",
    "\n",
    "def analyze_and_count_veil(image_path, mask_path):\n",
    "    # Load RGB image and mask\n",
    "    rgb_img = plt.imread(image_path).astype(np.float32)  # Ensure float32 type\n",
    "    mask = plt.imread(mask_path)\n",
    "    \n",
    "    # Apply mask to RGB image\n",
    "    masked_rgb_img = rgb_img * mask[:, :, np.newaxis]\n",
    "    \n",
    "    # Classify each pixel as veil or non-veil and count veil pixels\n",
    "    veil_count = classify_pixel_as_veil(masked_rgb_img)\n",
    "    \n",
    "    return veil_count"
   ]
  },
  {
   "cell_type": "markdown",
   "id": "0f078043",
   "metadata": {},
   "source": [
    "### Haralick texture"
   ]
  },
  {
   "cell_type": "code",
   "execution_count": 6,
   "id": "9b69652b",
   "metadata": {},
   "outputs": [],
   "source": [
    "def compute_haralick_texture_features(image_path, mask_path):\n",
    "    image = io.imread(image_path)\n",
    "    mask = io.imread(mask_path)\n",
    "    \n",
    "    # Remove alpha channel if present\n",
    "    if image.shape[2] == 4:\n",
    "        image = image[:, :, :3]  # Remove the alpha channel\n",
    "    \n",
    "    # Convert RGB image to grayscale\n",
    "    gray_image = color.rgb2gray(image)\n",
    "    # Convert grayscale image to unsigned integer type\n",
    "    gray_image_uint = util.img_as_ubyte(gray_image)\n",
    "    \n",
    "    # Apply mask to image\n",
    "    masked_image = image * mask[:, :, np.newaxis]\n",
    "    \n",
    "    # Compute gray-level co-occurrence matrix (GLCM)\n",
    "    distances = [1]  # distance between pixels\n",
    "    angles = [0, np.pi/4, np.pi/2, 3*np.pi/4]  # angles for texture measurements\n",
    "    glcm = graycomatrix(gray_image_uint, distances=distances, angles=angles, levels=256, symmetric=True, normed=True)\n",
    "    \n",
    "    # Compute Haralick texture features\n",
    "    contrast = graycoprops(glcm, 'contrast').ravel().mean()\n",
    "    dissimilarity = graycoprops(glcm, 'dissimilarity').ravel().mean()\n",
    "    homogeneity = graycoprops(glcm, 'homogeneity').ravel().mean()\n",
    "    energy = graycoprops(glcm, 'energy').ravel().mean()\n",
    "    correlation = graycoprops(glcm, 'correlation').ravel().mean()\n",
    "    \n",
    "    return [contrast, dissimilarity, homogeneity, energy, correlation]\n",
    "\n",
    "\n"
   ]
  },
  {
   "cell_type": "markdown",
   "id": "32515a51",
   "metadata": {},
   "source": [
    "### Diagnostic from metadata"
   ]
  },
  {
   "cell_type": "code",
   "execution_count": 7,
   "id": "0a8a171c",
   "metadata": {},
   "outputs": [],
   "source": [
    "def get_diagnostic(img_name):\n",
    "    \n",
    "    search_value=img_name+\".png\"\n",
    "    diagnostic = None\n",
    "    \n",
    "    with open(Metadata_path, 'r') as csv_file:\n",
    "        reader = csv.DictReader(csv_file, delimiter=',')\n",
    "        \n",
    "        for row in reader:\n",
    "            if row[\"img_id\"] == search_value:\n",
    "                diagnostic = row[\"diagnostic\"]\n",
    "                break  # Stop searching once the value is found\n",
    "    if diagnostic in [\"BCC\",\"SCC\",\"MEL\"]:\n",
    "        return(1)\n",
    "    else:\n",
    "        return(0)\n"
   ]
  },
  {
   "cell_type": "markdown",
   "id": "8d85681f",
   "metadata": {},
   "source": [
    "# Extracting and saving feature values"
   ]
  },
  {
   "cell_type": "code",
   "execution_count": 20,
   "id": "1221050d",
   "metadata": {},
   "outputs": [],
   "source": [
    "Asymmetry_results={}\n",
    "# Loop through each image in the folder\n",
    "for filename in os.listdir(Lesion_images_folder):\n",
    "    if filename.endswith('.jpg') or filename.endswith('.png'):  # Adjust file extensions as needed\n",
    "        image_path = os.path.join(Lesion_images_folder, filename)\n",
    "        mask_path = os.path.join(Lesion_masks_folder, os.path.basename(os.path.splitext(image_path)[0]) + \"_mask.png\")\n",
    "        symmetry = measure_symmetry(mask_path, image_path)\n",
    "        ID = filename.replace(\".png\",\"\");\n",
    "        Asymmetry_results[ID]= symmetry\n",
    "#Asymmetry_results      \n"
   ]
  },
  {
   "cell_type": "code",
   "execution_count": 9,
   "id": "efc1b622",
   "metadata": {},
   "outputs": [],
   "source": [
    "Colour_results = {}\n",
    "# Loop through each image in the folder\n",
    "for filename in os.listdir(Lesion_images_folder):\n",
    "    if filename.endswith('.jpg') or filename.endswith('.png'):  # Adjust file extensions as needed\n",
    "        img_path = os.path.join(Lesion_images_folder, filename)\n",
    "\n",
    "        # Find corresponding mask\n",
    "        corresponding_mask = os.path.join(Lesion_masks_folder, os.path.basename(os.path.splitext(img_path)[0]) + \"_mask.png\")\n",
    "        \n",
    "        # Analyze and visualize segmentation\n",
    "        result = analyze_and_visualize_segmentation(img_path, corresponding_mask, [7])\n",
    "        \n",
    "        # Append results to Colour_results list\n",
    "        ID=filename.replace(\".png\",\"\");\n",
    "        Colour_results[ID]=result\n",
    "\n",
    "#print(Colour_results)\n"
   ]
  },
  {
   "cell_type": "markdown",
   "id": "adbd15d0",
   "metadata": {},
   "source": [
    "Blue-White tager nogle minutter."
   ]
  },
  {
   "cell_type": "code",
   "execution_count": 10,
   "id": "b2a680e0",
   "metadata": {},
   "outputs": [
    {
     "name": "stdout",
     "output_type": "stream",
     "text": [
      "1\n",
      "2\n",
      "3\n",
      "4\n"
     ]
    },
    {
     "name": "stderr",
     "output_type": "stream",
     "text": [
      "C:\\Users\\krist\\AppData\\Local\\Temp\\ipykernel_10512\\727287811.py:9: RuntimeWarning: invalid value encountered in scalar divide\n",
      "  nB = B / Lum\n"
     ]
    },
    {
     "name": "stdout",
     "output_type": "stream",
     "text": [
      "5\n",
      "6\n",
      "7\n",
      "8\n",
      "9\n",
      "10\n",
      "11\n",
      "12\n",
      "13\n",
      "14\n",
      "15\n",
      "16\n",
      "17\n",
      "18\n",
      "19\n",
      "20\n",
      "21\n",
      "22\n",
      "23\n",
      "24\n",
      "25\n",
      "26\n",
      "27\n",
      "28\n",
      "29\n",
      "30\n",
      "31\n",
      "32\n",
      "33\n",
      "34\n",
      "35\n",
      "36\n",
      "37\n",
      "38\n",
      "39\n",
      "40\n",
      "41\n",
      "42\n",
      "43\n",
      "44\n",
      "45\n",
      "46\n",
      "47\n",
      "48\n",
      "49\n",
      "50\n",
      "51\n",
      "52\n",
      "53\n",
      "54\n",
      "55\n",
      "56\n",
      "57\n",
      "58\n",
      "59\n",
      "60\n",
      "61\n",
      "62\n",
      "63\n",
      "64\n",
      "65\n",
      "66\n",
      "67\n",
      "68\n",
      "69\n",
      "70\n",
      "71\n",
      "72\n",
      "73\n",
      "74\n",
      "75\n",
      "76\n",
      "77\n",
      "78\n",
      "79\n",
      "80\n",
      "81\n",
      "82\n",
      "83\n",
      "84\n",
      "85\n",
      "86\n",
      "87\n",
      "88\n",
      "89\n",
      "90\n",
      "91\n",
      "92\n",
      "93\n",
      "94\n",
      "95\n",
      "96\n",
      "97\n",
      "98\n",
      "99\n",
      "100\n",
      "101\n",
      "102\n",
      "103\n",
      "104\n",
      "105\n",
      "106\n",
      "107\n",
      "108\n",
      "109\n",
      "110\n",
      "111\n",
      "112\n",
      "113\n",
      "114\n",
      "115\n",
      "116\n",
      "117\n",
      "118\n",
      "119\n",
      "120\n",
      "121\n",
      "122\n",
      "123\n",
      "124\n",
      "125\n",
      "126\n"
     ]
    }
   ],
   "source": [
    "Blue_white_veil_results = {}\n",
    "i = 1\n",
    "# Loop through each image in the folder\n",
    "for filename in os.listdir(Lesion_images_folder):\n",
    "    if filename.endswith('.jpg') or filename.endswith('.png'):  # Adjust file extensions as needed\n",
    "        img_path = os.path.join(Lesion_images_folder, filename)\n",
    "        print(i)\n",
    "        i += 1\n",
    "        # Find corresponding mask\n",
    "        corresponding_mask = os.path.join(Lesion_masks_folder, os.path.basename(os.path.splitext(img_path)[0]) + \"_mask.png\")\n",
    "        \n",
    "        # cound blue white veils pixels\n",
    "        result = analyze_and_count_veil(img_path, corresponding_mask)\n",
    "        \n",
    "        # Append results to Blue_white_veil_results list\n",
    "        ID=filename.replace(\".png\",\"\");\n",
    "        Blue_white_veil_results[ID]=result\n",
    "\n"
   ]
  },
  {
   "cell_type": "code",
   "execution_count": 11,
   "id": "6b2897fc",
   "metadata": {},
   "outputs": [],
   "source": [
    "haralick_results = {}\n",
    "\n",
    "# Loop through each image in the folder\n",
    "for filename in os.listdir(Lesion_images_folder):\n",
    "    if filename.endswith('.jpg') or filename.endswith('.png'):  # Adjust file extensions as needed\n",
    "        img_path = os.path.join(Lesion_images_folder, filename)\n",
    "        \n",
    "        # Find corresponding mask\n",
    "        corresponding_mask = os.path.join(Lesion_masks_folder, os.path.basename(os.path.splitext(img_path)[0]) + \"_mask.png\")\n",
    "        \n",
    "        # compute haralick\n",
    "        result = compute_haralick_texture_features(img_path, corresponding_mask)\n",
    "        \n",
    "        # Append results to haralick results\n",
    "        ID=filename.replace(\".png\",\"\");\n",
    "        haralick_results[ID]=result\n"
   ]
  },
  {
   "cell_type": "markdown",
   "id": "a92d4016",
   "metadata": {},
   "source": [
    "# Creating CSV file and and headers"
   ]
  },
  {
   "cell_type": "markdown",
   "id": "c0166424",
   "metadata": {},
   "source": [
    "### Create file and add headers"
   ]
  },
  {
   "cell_type": "code",
   "execution_count": 12,
   "id": "8d546d79",
   "metadata": {},
   "outputs": [
    {
     "name": "stdout",
     "output_type": "stream",
     "text": [
      "Empty CSV file created at: C:\\Users\\krist\\Desktop\\ITU\\2_Semester\\projects_in_datascience\\first_year_project\\Attributes2.csv\n",
      "headers added at: C:\\Users\\krist\\Desktop\\ITU\\2_Semester\\projects_in_datascience\\first_year_project\\Attributes2.csv\n"
     ]
    }
   ],
   "source": [
    "# Get the current working directory\n",
    "current_directory = os.getcwd()\n",
    "# Define the filename for the CSV file\n",
    "csv_filename = \"Attributes2.csv\"\n",
    "# Construct the full path to the CSV file\n",
    "csv_filepath = os.path.join(current_directory, csv_filename)\n",
    "# Create the empty CSV file\n",
    "with open(csv_filepath, 'w') as csv_file:\n",
    "    pass  # This just creates an empty file\n",
    "print(\"Empty CSV file created at:\", csv_filepath)\n",
    "\n",
    "# Define the list of names for the rows\n",
    "row_names = [\"lesion_name\", \"symmetry_major\", \"symmetry_minor\", \"ssim_major\", \"ssim_minor, symmetry_score\", \"color_symmetry_score\", \"avg_red_value\", \"avg_blue_value\", \"avg_green_value\",\"avg_red_std_dev\", \"avg_blue_std_dev\", \"avg_red_std_dev\",\"blue_white_veil_score\",\"Haralick_contrast\", \"Haralick_dissimilarity\", \"Haralick_homogeneity\", \"Haralick_energy\", \"Haralick_correlation\",\"is_cancer_bool\"]\n",
    "\n",
    "# Write the row names to the CSV file\n",
    "with open(csv_filepath, 'w', newline='') as csv_file:\n",
    "    writer = csv.writer(csv_file)\n",
    "    writer.writerow(row_names)\n",
    "print(\"headers added at:\", csv_filepath)\n"
   ]
  },
  {
   "cell_type": "markdown",
   "id": "18a02300",
   "metadata": {},
   "source": [
    "# Combine Attribute dictionaries into a single list of lists"
   ]
  },
  {
   "cell_type": "code",
   "execution_count": 21,
   "id": "e5e84c6a",
   "metadata": {},
   "outputs": [],
   "source": [
    "#make the list\n",
    "Attributelist=[]\n",
    "\n",
    "#add values\n",
    "for key in Asymmetry_results.keys():\n",
    "    row=[]\n",
    "    row.append(key)\n",
    "    row=row+Asymmetry_results[key]\n",
    "    row=row+Colour_results[key]\n",
    "    row.append(Blue_white_veil_results[key])\n",
    "    row=row+haralick_results[key]\n",
    "    row.append(get_diagnostic(key))\n",
    "    Attributelist.append(row)\n",
    "    "
   ]
  },
  {
   "cell_type": "markdown",
   "id": "0ff2170f",
   "metadata": {},
   "source": [
    "# Add attributes to the csv"
   ]
  },
  {
   "cell_type": "code",
   "execution_count": 22,
   "id": "052fb22b",
   "metadata": {},
   "outputs": [
    {
     "name": "stdout",
     "output_type": "stream",
     "text": [
      "Attributs appended to the CSV file at: C:\\Users\\krist\\Desktop\\ITU\\2_Semester\\projects_in_datascience\\first_year_project\\Attributes2.csv\n"
     ]
    }
   ],
   "source": [
    "with open(csv_filepath, 'a', newline='') as csv_file:\n",
    "    writer = csv.writer(csv_file)\n",
    "    for row in Attributelist:\n",
    "        writer.writerow(row)\n",
    "\n",
    "print(\"Attributs appended to the CSV file at:\", csv_filepath)"
   ]
  },
  {
   "cell_type": "code",
   "execution_count": null,
   "id": "d2f98624",
   "metadata": {},
   "outputs": [],
   "source": []
  }
 ],
 "metadata": {
  "kernelspec": {
   "display_name": "Python 3 (ipykernel)",
   "language": "python",
   "name": "python3"
  },
  "language_info": {
   "codemirror_mode": {
    "name": "ipython",
    "version": 3
   },
   "file_extension": ".py",
   "mimetype": "text/x-python",
   "name": "python",
   "nbconvert_exporter": "python",
   "pygments_lexer": "ipython3",
   "version": "3.8.18"
  }
 },
 "nbformat": 4,
 "nbformat_minor": 5
}
